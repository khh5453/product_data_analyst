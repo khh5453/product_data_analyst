{
 "cells": [
  {
   "cell_type": "markdown",
   "id": "601777ea",
   "metadata": {},
   "source": [
    "# 메인퀘스트 1번 : 은행계좌 만들기"
   ]
  },
  {
   "cell_type": "markdown",
   "id": "8f849e28",
   "metadata": {},
   "source": [
    "### Account 클래스 만들기"
   ]
  },
  {
   "cell_type": "code",
   "execution_count": 28,
   "id": "5f59b4c5",
   "metadata": {},
   "outputs": [],
   "source": [
    "# 1. 은행에 가서 계좌를 개설하면 은행이름, 예금주, 계좌번호, 잔액이 설정됨 \n",
    "# Account 클래스를 생성한 후 생성자(hint: 매직매서드..!!)를 구현하기 \n",
    "# 생성자에서는 예금주와 초기 잔액만 입력 받기 \n",
    "# 은행이름은 SC은행으로 계좌번호는 3자리2자리-6자리 형태로 랜덤하게 생성됨 (은행이름: SC은행, 계좌번호: 111-11-111111)\n",
    "\n",
    "import random as r\n",
    "\n",
    "class Account:\n",
    "    # 2. 클래스 변수: 클래스 변수를 사용해서 Account 클래스로부터 생성된 계좌 객체의 개수를 저장하세요.\n",
    "    account_cnt = 0\n",
    "    \n",
    "    def __init__(self, owner, balance):\n",
    "        self.owner = owner\n",
    "        self.balance = balance\n",
    "        self.bank_name = 'SC은행'\n",
    "        self.account_num = self.set_account_num()\n",
    "        Account.account_cnt += 1\n",
    "        self.deposit_cnt = 0\n",
    "        self.deposit_list = []\n",
    "        self.withdraw_list = []\n",
    "        \n",
    "    def set_account_num(self):\n",
    "        account_number = ''\n",
    "        first = [str(r.randint(0,9)) for x in range(3)]\n",
    "        second = [str(r.randint(0,9)) for x in range(2)]\n",
    "        third = [str(r.randint(0,9)) for x in range(6)]\n",
    "        account_number = ''.join(first) + '-' + ''.join(second) + '-' + ''.join(third)\n",
    "        return account_number\n",
    "    \n",
    "    # 3. 클래스 변수 출력 : Account 클래스로부터 생성된 계좌의 개수를 출력하는 get_account_num() 메서드를 추가하세요.\n",
    "    def get_account_num(self):\n",
    "        print(f'생성된 계좌의 개수 : {Account.account_cnt}')\n",
    "        \n",
    "    # 4. 입금 메서드 : Account 클래스에 입금을 위한 deposit 메서드를 추가하세요. 입금은 최소 1원 이상만 가능합니다.\n",
    "    def deposit(self, deposit_amount):\n",
    "        if deposit_amount >= 1:\n",
    "            self.deposit_cnt += 1\n",
    "            self.balance += deposit_amount\n",
    "            self.deposit_list.append([deposit_amount, self.balance])\n",
    "            print(f\"{format(deposit_amount, ',')}원이 입금 되었습니다.\")\n",
    "            \n",
    "            # 7. 이자 지급하기 : 입금 횟수가 5회가 될 때 잔고를 기준으로 1%의 이자가 잔고에 추가되도록 코드를 변경해보세요.\n",
    "            if self.deposit_cnt == 5:\n",
    "                self.balance += self.balance * 0.01\n",
    "        else:\n",
    "            print(\"입금은 최소 1원 이상만 가능합니다.\")\n",
    "            \n",
    "    # 5. 출금 메서드 : Account 클래스에 출금을 위한 withdraw 메서드를 추가하세요. 출금은 계좌의 잔고 이상으로 출금할 수는 없습니다.\n",
    "    def withdraw(self, withdraw_amount):\n",
    "        if withdraw_amount > self.balance:\n",
    "            print('잔고가 부족합니다.')\n",
    "        else:\n",
    "            self.balance -= withdraw_amount\n",
    "            self.withdraw_list.append([withdraw_amount, self.balance])\n",
    "            print(f\"{format(withdraw_amount, ',')}원이 출금 되었습니다.\")\n",
    "            \n",
    "    # 6. 정보 출력 메서드 : Account 인스턴스에 저장된 정보를 출력하는 display_info() 메서드를 추가하세요. \n",
    "    # 잔고는 세자리마다 쉼표를 출력하세요.\n",
    "    #(은행이름: SC은행, 예금주: 파이썬, 계좌번호: 111-11-111111, 잔고: 10,000원)\n",
    "    def display_info(self):\n",
    "        string = f\"\"\"은행이름 : {self.bank_name}\n",
    "예금주 : {self.owner}\n",
    "계좌번호 : {self.account_num}\n",
    "잔고 : {format(self.balance, ',')}원\"\"\"\n",
    "        print(string)\n",
    "        \n",
    "    \n",
    "    # 10. 입금과 출금 내역이 기록되도록 코드를 업데이트 하세요.\n",
    "    # (입금 내역과 출금 내역을 출력하는 deposit_history와 withdraw_history 메서드를 추가하세요.)\n",
    "    def deposit_history(self):\n",
    "        print('-' * 20)\n",
    "        for i in self.deposit_list:\n",
    "            print(f\"입금 금액 : {format(i[0], ',')}원, 잔고 : {format(i[1], ',')}원\")\n",
    "        print('-' * 20)\n",
    "        \n",
    "        \n",
    "    def withdraw_history(self):\n",
    "        print('-' * 20)\n",
    "        for i in self.withdraw_list:\n",
    "            print(f\"출금 금액 : {format(i[0], ',')}원, 잔고 : {format(i[1], ',')}원\")\n",
    "        print('-' * 20)"
   ]
  },
  {
   "cell_type": "code",
   "execution_count": 29,
   "id": "90c65bf9",
   "metadata": {},
   "outputs": [
    {
     "name": "stdout",
     "output_type": "stream",
     "text": [
      "생성된 계좌의 개수 : 1\n",
      "입금은 최소 1원 이상만 가능합니다.\n",
      "10,000원이 입금 되었습니다.\n",
      "잔고가 부족합니다.\n",
      "5,000원이 출금 되었습니다.\n",
      "은행이름 : SC은행\n",
      "예금주 : 김현희\n",
      "계좌번호 : 253-48-196694\n",
      "잔고 : 55,000원\n",
      "50,000원이 입금 되었습니다.\n",
      "15,000원이 출금 되었습니다.\n",
      "--------------------\n",
      "입금 금액 : 10,000원, 잔고 : 60,000원\n",
      "입금 금액 : 50,000원, 잔고 : 105,000원\n",
      "--------------------\n",
      "--------------------\n",
      "출금 금액 : 5,000원, 잔고 : 55,000원\n",
      "출금 금액 : 15,000원, 잔고 : 90,000원\n",
      "--------------------\n"
     ]
    }
   ],
   "source": [
    "a = Account('김현희', 50000)\n",
    "\n",
    "a.get_account_num()\n",
    "a.deposit(0)\n",
    "a.deposit(10000)\n",
    "\n",
    "a.withdraw(70000)\n",
    "a.withdraw(5000)\n",
    "a.display_info()\n",
    "\n",
    "a.deposit(50000)\n",
    "a.withdraw(15000)\n",
    "\n",
    "a.deposit_history()\n",
    "a.withdraw_history()"
   ]
  },
  {
   "cell_type": "code",
   "execution_count": 30,
   "id": "0bccbcf1",
   "metadata": {},
   "outputs": [
    {
     "name": "stdout",
     "output_type": "stream",
     "text": [
      "10,000원이 입금 되었습니다.\n",
      "20,000원이 입금 되었습니다.\n",
      "30,000원이 입금 되었습니다.\n",
      "40,000원이 입금 되었습니다.\n",
      "--------------------\n",
      "입금 금액 : 10,000원, 잔고 : 60,000원\n",
      "입금 금액 : 50,000원, 잔고 : 105,000원\n",
      "입금 금액 : 10,000원, 잔고 : 100,000원\n",
      "입금 금액 : 20,000원, 잔고 : 120,000원\n",
      "입금 금액 : 30,000원, 잔고 : 150,000원\n",
      "입금 금액 : 40,000원, 잔고 : 191,500.0원\n",
      "--------------------\n",
      "은행이름 : SC은행\n",
      "예금주 : 김현희\n",
      "계좌번호 : 253-48-196694\n",
      "잔고 : 191,500.0원\n"
     ]
    }
   ],
   "source": [
    "a.deposit(10000)\n",
    "a.deposit(20000)\n",
    "a.deposit(30000)\n",
    "a.deposit(40000)\n",
    "\n",
    "a.deposit_history()\n",
    "\n",
    "a.display_info()"
   ]
  },
  {
   "cell_type": "code",
   "execution_count": 16,
   "id": "b3603460",
   "metadata": {},
   "outputs": [
    {
     "data": {
      "text/plain": [
       "[<__main__.Account at 0x7c438e7a5550>,\n",
       " <__main__.Account at 0x7c438e5f1160>,\n",
       " <__main__.Account at 0x7c438e5f1730>]"
      ]
     },
     "execution_count": 16,
     "metadata": {},
     "output_type": "execute_result"
    }
   ],
   "source": [
    "# 8. 여러 객체 생성 : Account 클래스로부터 3개 이상 인스턴스를 생성하고 생성된 인스턴스를 리스트에 저장해보세요\n",
    "account_list = []\n",
    "owner_list = ['김철수', '김영희', '홍길동']\n",
    "\n",
    "for i in owner_list:\n",
    "    account_list.append(Account(i, r.randint(500000, 1500000)))\n",
    "    \n",
    "account_list"
   ]
  },
  {
   "cell_type": "code",
   "execution_count": 19,
   "id": "f554eade",
   "metadata": {},
   "outputs": [
    {
     "name": "stdout",
     "output_type": "stream",
     "text": [
      "은행이름 : SC은행\n",
      "예금주 : 김영희\n",
      "계좌번호 : 567-70-932918\n",
      "잔고 : 1,113,583원\n"
     ]
    }
   ],
   "source": [
    "# 9. 객체 순회 반복문을 통해 리스트에 있는 객체를 순회하면서 잔고가 100만원 이상인 고객의 정보만 출력하세요\n",
    "for i in account_list:\n",
    "    if i.balance >= 1000000:\n",
    "        i.display_info()"
   ]
  },
  {
   "cell_type": "markdown",
   "id": "ae2a4c38",
   "metadata": {},
   "source": [
    "# 메인퀘스트 2번 : 간단한 자동사냥 RPG 만들기"
   ]
  },
  {
   "cell_type": "markdown",
   "id": "e55c2161",
   "metadata": {},
   "source": [
    "### 1. character 클래스 만들기"
   ]
  },
  {
   "cell_type": "code",
   "execution_count": 137,
   "id": "b1706402",
   "metadata": {},
   "outputs": [],
   "source": [
    "# 이름, 레벨, 체력, 공격력, 방어력의 속성을 가짐\n",
    "# 인스턴스의 현재 체력이 0 이상인지 bool 값을 반환하는 is_alive 메서드 만들기\n",
    "# 공격을 받았을 때, (받은 데미지 - 본인의 방어력)만큼 현재 체력이 감소하는 take_damage 메서드 만들기\n",
    "# 본인의 방어력이 데미지보다 크다면 체력 감소하지 않음\n",
    "# 타겟에게 데미지를 입히는 attack_target 메서드 만들기\n",
    "# 데미지는 1부터 공격력 사이의 랜덤한 정수\n",
    "\n",
    "import random\n",
    "\n",
    "class Character:\n",
    "    def __init__(self, name, level, stamina, attack, defense):\n",
    "        self.name = name\n",
    "        self.level = level\n",
    "        self.stamina = stamina\n",
    "        self.attack = attack\n",
    "        self.defense = defense\n",
    "        \n",
    "    def is_alive(self):\n",
    "        self.alive = False\n",
    "        \n",
    "        if self.stamina < 0:\n",
    "            self.alive = True\n",
    "        \n",
    "        return self.alive\n",
    "            \n",
    "    def take_damage(self, damage):\n",
    "#         if self.defense >= damage :\n",
    "#             print(f'{self.name}은/는 피해를 받지 않았습니다.')\n",
    "        if self.defense < damage:\n",
    "            self.stamina -= (damage - self.defense)\n",
    "#             print(f'{self.name}이/가 공격을 받아, {damage - self.defense}만큼 체력이 깎였습니다.')\n",
    "#             print(f\"{self.name}의 남은 체력 : {self.stamina}\")\n",
    "        \n",
    "    def attack_target(self):\n",
    "        damage = random.randint(1, self.attack)\n",
    "#         print(f'{self.name}이/가 {damage}의 피해를 입혔습니다.')\n",
    "        return damage"
   ]
  },
  {
   "cell_type": "code",
   "execution_count": 138,
   "id": "bebdb60b",
   "metadata": {},
   "outputs": [
    {
     "data": {
      "text/plain": [
       "1"
      ]
     },
     "execution_count": 138,
     "metadata": {},
     "output_type": "execute_result"
    }
   ],
   "source": [
    "c1 = Character('character1', 5, 50, 7, 7)\n",
    "c1.is_alive()\n",
    "c1.take_damage(20)\n",
    "c1.attack_target()"
   ]
  },
  {
   "cell_type": "markdown",
   "id": "f4be67ce",
   "metadata": {},
   "source": [
    "### 2. Player 클래스와 Monster 클래스 만들기"
   ]
  },
  {
   "cell_type": "code",
   "execution_count": 158,
   "id": "ed1ce154",
   "metadata": {},
   "outputs": [],
   "source": [
    "### Player 클래스\n",
    "# Character를 상속 받기\n",
    "# 레벨 1, 체력 100, 공격력 25, 방어력 5로 초기화하기\n",
    "# Player 클래스는 경험치 속성을 추가로 가짐\n",
    "# 인수로 받은 정수 만큼 경험치를 획득하는 gain_experience 메서드 만들기\n",
    "# 현재 경험치가 50이상이면 레벨을 1, 공격력을 10, 방어력을 5씩 올리는 level_up 메서드 만들기\n",
    "\n",
    "class Player(Character):\n",
    "    def __init__(self, name):\n",
    "        super().__init__(name, 1, 100, 25, 5)\n",
    "        self.exp = 0\n",
    "    \n",
    "    def gain_experience(self, exp):\n",
    "        self.exp += exp\n",
    "        print(f'{self.name} 이/가 {exp}의 경험치를 얻었습니다.')\n",
    "        \n",
    "    def level_up(self):\n",
    "        if self.exp >= 50:\n",
    "            self.level += 1\n",
    "            self.attack += 10\n",
    "            self.defense += 5\n",
    "            print('레벨업!')\n",
    "\n",
    "\n",
    "              \n",
    "### Monster 클래스\n",
    "# Character를 상속 받기\n",
    "# 몬스터의 레벨에 비례하는 체력, 공격력, 방어력 초기화하기\n",
    "# 체력: 10~30 사이의 랜덤한 정수 * 레벨\n",
    "# 공격력: 5~20 사이의 랜덤한 정수 * 레벨\n",
    "# 방어력: 1~5 사이의 랜덤한 정수 * 레벨\n",
    "              \n",
    "class Monster(Character):\n",
    "    def __init__(self, name, level):\n",
    "        stamina = random.randint(10,30) * level\n",
    "        attack = random.randint(5,20) * level\n",
    "        defense = random.randint(1,5) * level\n",
    "        super().__init__(name, level, stamina, attack, defense)\n",
    "\n",
    "        "
   ]
  },
  {
   "cell_type": "code",
   "execution_count": 140,
   "id": "7c0dca2f",
   "metadata": {},
   "outputs": [
    {
     "data": {
      "text/plain": [
       "3"
      ]
     },
     "execution_count": 140,
     "metadata": {},
     "output_type": "execute_result"
    }
   ],
   "source": [
    "p1 = Player('player1')\n",
    "m1 = Monster('monster1', 3)\n",
    "\n",
    "\n",
    "p1.take_damage(5)\n",
    "m1.take_damage(5)\n",
    "p1.is_alive()\n",
    "m1.is_alive()\n",
    "p1.attack_target()\n",
    "m1.attack_target()"
   ]
  },
  {
   "cell_type": "markdown",
   "id": "e94c542b",
   "metadata": {},
   "source": [
    "### 3. battle 함수 만들기"
   ]
  },
  {
   "cell_type": "code",
   "execution_count": 191,
   "id": "ee3bd1a5",
   "metadata": {},
   "outputs": [],
   "source": [
    "### Player 인스턴스와 Monster 인스턴스를 인수로 받아 둘 중 하나의 체력이 0 이하가 될 때까지 공격을 주고 받는 함수\n",
    "### 만약 Player 인스턴스가 살아남았다면\n",
    "# Player 인스턴스에 (몬스터 레벨 * 20)만큼의 경험치를 추가\n",
    "# player의 레벨업 메서드 호출\n",
    "# ‘전투 승리!’를 출력\n",
    "# Player 인스턴스가 살아남지 못했을 경우\n",
    "# ‘전투 패배..’를 출력하기\n",
    "        \n",
    "        \n",
    "def battle(player, monster):\n",
    "    while True:\n",
    "        # 플레이어의 공격\n",
    "        damage_to_monster = player.attack_target()\n",
    "        monster.take_damage(damage_to_monster)\n",
    "        print(f\"{player.name} 이/가 {monster.name} 에게 {damage_to_monster} 만큼 공격했다!\")\n",
    "        print(f\"{monster.name} 의 남은 체력 : {monster.stamina}\")\n",
    "\n",
    "        # 몬스터가 쓰러졌는지 확인\n",
    "        if monster.stamina <= 0:\n",
    "            player.gain_experience(monster.level * 20)\n",
    "            player.level_up()\n",
    "            print('전투 승리!')\n",
    "            break\n",
    "\n",
    "        # 몬스터의 공격\n",
    "        damage_to_player = monster.attack_target()\n",
    "        player.take_damage(damage_to_player)\n",
    "        print(f\"{monster.name} 이/가 {player.name} 에게 {damage_to_player} 만큼 공격했다!\")\n",
    "        print(f\"{player.name} 의 남은 체력 : {player.stamina}\")\n",
    "        print()\n",
    "\n",
    "        # 플레이어가 쓰러졌는지 확인\n",
    "        if player.stamina <= 0:\n",
    "            print('전투 패배..')\n",
    "            break"
   ]
  },
  {
   "cell_type": "code",
   "execution_count": 192,
   "id": "0fd1fb92",
   "metadata": {},
   "outputs": [
    {
     "name": "stdout",
     "output_type": "stream",
     "text": [
      "player2 이/가 monster2 에게 13 만큼 공격했다!\n",
      "monster2 의 남은 체력 : 50\n",
      "monster2 이/가 player2 에게 14 만큼 공격했다!\n",
      "player2 의 남은 체력 : 91\n",
      "\n",
      "player2 이/가 monster2 에게 22 만큼 공격했다!\n",
      "monster2 의 남은 체력 : 48\n",
      "monster2 이/가 player2 에게 29 만큼 공격했다!\n",
      "player2 의 남은 체력 : 67\n",
      "\n",
      "player2 이/가 monster2 에게 15 만큼 공격했다!\n",
      "monster2 의 남은 체력 : 48\n",
      "monster2 이/가 player2 에게 9 만큼 공격했다!\n",
      "player2 의 남은 체력 : 63\n",
      "\n",
      "player2 이/가 monster2 에게 3 만큼 공격했다!\n",
      "monster2 의 남은 체력 : 48\n",
      "monster2 이/가 player2 에게 15 만큼 공격했다!\n",
      "player2 의 남은 체력 : 53\n",
      "\n",
      "player2 이/가 monster2 에게 16 만큼 공격했다!\n",
      "monster2 의 남은 체력 : 48\n",
      "monster2 이/가 player2 에게 27 만큼 공격했다!\n",
      "player2 의 남은 체력 : 31\n",
      "\n",
      "player2 이/가 monster2 에게 12 만큼 공격했다!\n",
      "monster2 의 남은 체력 : 48\n",
      "monster2 이/가 player2 에게 8 만큼 공격했다!\n",
      "player2 의 남은 체력 : 28\n",
      "\n",
      "player2 이/가 monster2 에게 19 만큼 공격했다!\n",
      "monster2 의 남은 체력 : 48\n",
      "monster2 이/가 player2 에게 1 만큼 공격했다!\n",
      "player2 의 남은 체력 : 28\n",
      "\n",
      "player2 이/가 monster2 에게 21 만큼 공격했다!\n",
      "monster2 의 남은 체력 : 47\n",
      "monster2 이/가 player2 에게 28 만큼 공격했다!\n",
      "player2 의 남은 체력 : 5\n",
      "\n",
      "player2 이/가 monster2 에게 20 만큼 공격했다!\n",
      "monster2 의 남은 체력 : 47\n",
      "monster2 이/가 player2 에게 14 만큼 공격했다!\n",
      "player2 의 남은 체력 : -4\n",
      "\n",
      "전투 패배..\n"
     ]
    }
   ],
   "source": [
    "p2 = Player('player2')\n",
    "m2 = Monster('monster2', 5)\n",
    "\n",
    "battle(p2, m2)"
   ]
  },
  {
   "cell_type": "markdown",
   "id": "c4b16a75",
   "metadata": {},
   "source": [
    "### 4. main 함수 만들기"
   ]
  },
  {
   "cell_type": "code",
   "execution_count": 197,
   "id": "fac721bc",
   "metadata": {},
   "outputs": [],
   "source": [
    "### 몬스터의 이름, 레벨이 매핑된 딕셔너리 정의하기\n",
    "# monster_dict = {‘슬라임’: 1, ‘고블린’: 2, ‘오크’: 3}\n",
    "\n",
    "# 사용자로부터 이름을 입력받아 Player 인스턴스 생성하기\n",
    "# 몬스터 딕셔너리로부터 Monster 인스턴스 생성하기\n",
    "\n",
    "# 생성된 Monster 인스턴스와 Player 인스턴스가 battle 함수를 통해 전투\n",
    "# player는 생성된 몬스터 3마리(슬라임, 고블린, 오크)와 모두 전투해야함\n",
    "# 전투 도중에 Player가 사망하면 이후 전투를 진행하지 않고 ‘게임오버’ 출력하고 종료\n",
    "\n",
    "\n",
    "def main():\n",
    "    # 플레이어, 몬스터 생성\n",
    "    player_name = input('게임 캐릭터의 이름을 입력해주세요.')\n",
    "    player = Player(player_name)\n",
    "    \n",
    "    monster_dict = {'슬라임' : 1, '고블린' : 2, '오크' : 3}\n",
    "    monsters = {}\n",
    "    for k, v in monster_dict.items():\n",
    "        monsters[k] = Monster(k, v)\n",
    "    \n",
    "    # 전투\n",
    "    for k in monsters.keys():\n",
    "        print('*' * 40 + '\\n')\n",
    "        print(f'{k} 과/와의 전투를 시작합니다.')\n",
    "        battle(player, monsters[k])\n",
    "        print()\n",
    "        if player.is_alive() == True:\n",
    "            print('게임오버')"
   ]
  },
  {
   "cell_type": "code",
   "execution_count": 198,
   "id": "b9a2531f",
   "metadata": {},
   "outputs": [
    {
     "name": "stdout",
     "output_type": "stream",
     "text": [
      "게임 캐릭터의 이름을 입력해주세요.김플레이어\n",
      "****************************************\n",
      "\n",
      "슬라임 과/와의 전투를 시작합니다.\n",
      "김플레이어 이/가 슬라임 에게 16 만큼 공격했다!\n",
      "슬라임 의 남은 체력 : 10\n",
      "슬라임 이/가 김플레이어 에게 6 만큼 공격했다!\n",
      "김플레이어 의 남은 체력 : 99\n",
      "\n",
      "김플레이어 이/가 슬라임 에게 23 만큼 공격했다!\n",
      "슬라임 의 남은 체력 : -12\n",
      "김플레이어 이/가 20의 경험치를 얻었습니다.\n",
      "전투 승리!\n",
      "\n",
      "****************************************\n",
      "\n",
      "고블린 과/와의 전투를 시작합니다.\n",
      "김플레이어 이/가 고블린 에게 2 만큼 공격했다!\n",
      "고블린 의 남은 체력 : 38\n",
      "고블린 이/가 김플레이어 에게 9 만큼 공격했다!\n",
      "김플레이어 의 남은 체력 : 95\n",
      "\n",
      "김플레이어 이/가 고블린 에게 25 만큼 공격했다!\n",
      "고블린 의 남은 체력 : 17\n",
      "고블린 이/가 김플레이어 에게 4 만큼 공격했다!\n",
      "김플레이어 의 남은 체력 : 95\n",
      "\n",
      "김플레이어 이/가 고블린 에게 22 만큼 공격했다!\n",
      "고블린 의 남은 체력 : -1\n",
      "김플레이어 이/가 40의 경험치를 얻었습니다.\n",
      "레벨업!\n",
      "전투 승리!\n",
      "\n",
      "****************************************\n",
      "\n",
      "오크 과/와의 전투를 시작합니다.\n",
      "김플레이어 이/가 오크 에게 34 만큼 공격했다!\n",
      "오크 의 남은 체력 : 23\n",
      "오크 이/가 김플레이어 에게 24 만큼 공격했다!\n",
      "김플레이어 의 남은 체력 : 81\n",
      "\n",
      "김플레이어 이/가 오크 에게 2 만큼 공격했다!\n",
      "오크 의 남은 체력 : 23\n",
      "오크 이/가 김플레이어 에게 16 만큼 공격했다!\n",
      "김플레이어 의 남은 체력 : 75\n",
      "\n",
      "김플레이어 이/가 오크 에게 8 만큼 공격했다!\n",
      "오크 의 남은 체력 : 23\n",
      "오크 이/가 김플레이어 에게 17 만큼 공격했다!\n",
      "김플레이어 의 남은 체력 : 68\n",
      "\n",
      "김플레이어 이/가 오크 에게 4 만큼 공격했다!\n",
      "오크 의 남은 체력 : 23\n",
      "오크 이/가 김플레이어 에게 10 만큼 공격했다!\n",
      "김플레이어 의 남은 체력 : 68\n",
      "\n",
      "김플레이어 이/가 오크 에게 15 만큼 공격했다!\n",
      "오크 의 남은 체력 : 20\n",
      "오크 이/가 김플레이어 에게 16 만큼 공격했다!\n",
      "김플레이어 의 남은 체력 : 62\n",
      "\n",
      "김플레이어 이/가 오크 에게 4 만큼 공격했다!\n",
      "오크 의 남은 체력 : 20\n",
      "오크 이/가 김플레이어 에게 18 만큼 공격했다!\n",
      "김플레이어 의 남은 체력 : 54\n",
      "\n",
      "김플레이어 이/가 오크 에게 8 만큼 공격했다!\n",
      "오크 의 남은 체력 : 20\n",
      "오크 이/가 김플레이어 에게 5 만큼 공격했다!\n",
      "김플레이어 의 남은 체력 : 54\n",
      "\n",
      "김플레이어 이/가 오크 에게 28 만큼 공격했다!\n",
      "오크 의 남은 체력 : 4\n",
      "오크 이/가 김플레이어 에게 16 만큼 공격했다!\n",
      "김플레이어 의 남은 체력 : 48\n",
      "\n",
      "김플레이어 이/가 오크 에게 19 만큼 공격했다!\n",
      "오크 의 남은 체력 : -3\n",
      "김플레이어 이/가 60의 경험치를 얻었습니다.\n",
      "레벨업!\n",
      "전투 승리!\n",
      "\n"
     ]
    }
   ],
   "source": [
    "main()"
   ]
  },
  {
   "cell_type": "code",
   "execution_count": null,
   "id": "1f77bd81",
   "metadata": {},
   "outputs": [],
   "source": []
  }
 ],
 "metadata": {
  "kernelspec": {
   "display_name": "Python 3 (ipykernel)",
   "language": "python",
   "name": "python3"
  },
  "language_info": {
   "codemirror_mode": {
    "name": "ipython",
    "version": 3
   },
   "file_extension": ".py",
   "mimetype": "text/x-python",
   "name": "python",
   "nbconvert_exporter": "python",
   "pygments_lexer": "ipython3",
   "version": "3.9.7"
  }
 },
 "nbformat": 4,
 "nbformat_minor": 5
}
