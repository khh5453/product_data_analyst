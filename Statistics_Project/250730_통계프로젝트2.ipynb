{
 "cells": [
  {
   "cell_type": "code",
   "execution_count": 1,
   "id": "dd87ecf8",
   "metadata": {},
   "outputs": [],
   "source": [
    "import pandas as pd\n",
    "import numpy as np\n",
    "import seaborn as sns\n",
    "import matplotlib.pyplot as plt\n",
    "from sklearn.linear_model import LinearRegression, LogisticRegression\n",
    "from sklearn.metrics import r2_score, confusion_matrix, classification_report, roc_curve, auc\n",
    "from scipy import stats\n",
    "from sklearn.decomposition import PCA\n",
    "from sklearn.preprocessing import StandardScaler\n",
    "from sklearn.cluster import KMeans\n",
    "from sklearn.model_selection import cross_val_score\n",
    "import warnings\n",
    "warnings.filterwarnings('ignore')\n",
    "\n",
    "plt.rc('font', family='NanumBarunGothic')\n"
   ]
  },
  {
   "cell_type": "markdown",
   "id": "1c5be29d",
   "metadata": {},
   "source": [
    "# 미션 1: 교육 프로그램의 학습 효과 분석 보고서"
   ]
  },
  {
   "cell_type": "code",
   "execution_count": 2,
   "id": "fa35622b",
   "metadata": {},
   "outputs": [
    {
     "name": "stdout",
     "output_type": "stream",
     "text": [
      "📚 교육 프로그램 데이터 미리보기\n",
      "            count   mean    std\n",
      "group                          \n",
      "Control       150  64.93   9.67\n",
      "SmartLearn    150  70.47  11.29\n"
     ]
    }
   ],
   "source": [
    "np.random.seed(321)\n",
    "n_students = 150\n",
    "control_scores = np.random.normal(65, 10, n_students)\n",
    "smartlearn_scores = np.random.normal(70, 12, n_students)\n",
    "education_data = pd.DataFrame({\n",
    "    'group': ['Control']*n_students + ['SmartLearn']*n_students,\n",
    "    'math_score': np.concatenate([control_scores, smartlearn_scores]),\n",
    "    'student_id': range(1, 2*n_students + 1)\n",
    "})\n",
    "\n",
    "print(\"📚 교육 프로그램 데이터 미리보기\")\n",
    "print(education_data.groupby('group')['math_score'].agg(['count', 'mean', 'std']).round(2))\n"
   ]
  },
  {
   "cell_type": "markdown",
   "id": "a5804b81",
   "metadata": {},
   "source": [
    "### 1. 기본 통계량 비교"
   ]
  },
  {
   "cell_type": "code",
   "execution_count": 17,
   "id": "0f416496",
   "metadata": {},
   "outputs": [
    {
     "name": "stdout",
     "output_type": "stream",
     "text": [
      "대조군 수학 점수: 64.93 ± 9.67\n",
      "SmartLearn 수학 점수: 70.47 ± 11.29\n",
      "평균 점수 차이 : 5.54, 8.53% 향상\n"
     ]
    }
   ],
   "source": [
    "control_mean = education_data[education_data['group'] == 'Control']['math_score'].mean()\n",
    "smartlearn_mean = education_data[education_data['group'] == 'SmartLearn']['math_score'].mean()\n",
    "control_se = education_data[education_data['group'] == 'Control']['math_score'].std()\n",
    "smartlearn_se = education_data[education_data['group'] == 'SmartLearn']['math_score'].std()\n",
    "\n",
    "print(f\"대조군 수학 점수: {control_mean:.2f} ± {control_se:.2f}\")\n",
    "print(f\"SmartLearn 수학 점수: {smartlearn_mean:.2f} ± {smartlearn_se:.2f}\")\n",
    "print(f\"평균 점수 차이 : {smartlearn_mean - control_mean:.2f}, {(smartlearn_mean - control_mean)/control_mean *100:.2f}% 향상\")"
   ]
  },
  {
   "cell_type": "markdown",
   "id": "5d23dee6",
   "metadata": {},
   "source": [
    "### 2. 통계적 유의성 검증"
   ]
  },
  {
   "cell_type": "code",
   "execution_count": 13,
   "id": "120f5e0d",
   "metadata": {},
   "outputs": [
    {
     "name": "stdout",
     "output_type": "stream",
     "text": [
      "t-통계량: 4.565\n",
      "p-value: 0.0000\n",
      "✅ SmartLearn 프로그램은 대조군과 유의미한 성적 차이를 보입니다!\n"
     ]
    }
   ],
   "source": [
    "control_group = education_data[education_data['group'] == 'Control']['math_score']\n",
    "smartlearn_group = education_data[education_data['group'] == 'SmartLearn']['math_score']\n",
    "t_stat, p_value = stats.ttest_ind(smartlearn_group, control_group)\n",
    "\n",
    "print(f\"t-통계량: {t_stat:.3f}\")\n",
    "print(f\"p-value: {p_value:.4f}\")\n",
    "alpha = 0.05\n",
    "if p_value < alpha:\n",
    "    print(\"✅ SmartLearn 프로그램은 대조군과 유의미한 성적 차이를 보입니다!\")\n",
    "else:\n",
    "    print(\"❌ SmartLearn 프로그램의 효과가 유의미하지 않습니다.\")\n"
   ]
  },
  {
   "cell_type": "markdown",
   "id": "00604609",
   "metadata": {},
   "source": [
    "### 3. 효과 크기 평가"
   ]
  },
  {
   "cell_type": "code",
   "execution_count": 14,
   "id": "5b741e86",
   "metadata": {},
   "outputs": [
    {
     "name": "stdout",
     "output_type": "stream",
     "text": [
      "Cohen's d: 0.527\n",
      "→ 중간 효과크기 (교육적으로 의미있는 수준)\n"
     ]
    }
   ],
   "source": [
    "control_std = education_data[education_data['group'] == 'Control']['math_score'].std()\n",
    "smartlearn_std = education_data[education_data['group'] == 'SmartLearn']['math_score'].std()\n",
    "pooled_std = np.sqrt(((n_students-1)*control_std**2 + (n_students-1)*smartlearn_std**2)/(2*n_students-2))\n",
    "cohens_d = (smartlearn_mean - control_mean) / pooled_std\n",
    "\n",
    "print(f\"Cohen's d: {cohens_d:.3f}\")\n",
    "if cohens_d > 0.8:\n",
    "    print(\"→ 큰 효과크기 (학부모가 명확히 체감할 수 있는 수준)\")\n",
    "elif cohens_d > 0.5:\n",
    "    print(\"→ 중간 효과크기 (교육적으로 의미있는 수준)\")\n",
    "else:\n",
    "    print(\"→ 작은 효과크기 (미미한 개선 수준)\")\n"
   ]
  },
  {
   "cell_type": "markdown",
   "id": "cf59179e",
   "metadata": {},
   "source": [
    "### 4. 결과 시각화"
   ]
  },
  {
   "cell_type": "code",
   "execution_count": 11,
   "id": "cf5035a9",
   "metadata": {},
   "outputs": [
    {
     "data": {
      "image/png": "[encoded data removed]",
      "text/plain": [
       "<Figure size 576x432 with 1 Axes>"
      ]
     },
     "metadata": {
      "needs_background": "light"
     },
     "output_type": "display_data"
    }
   ],
   "source": [
    "plt.figure(figsize=(8, 6))\n",
    "groups = ['Control', 'SmartLearn']\n",
    "means = [control_mean, smartlearn_mean]\n",
    "errors = [1.96 * control_se, 1.96 * smartlearn_se]\n",
    "plt.bar(groups, means, yerr=errors, capsize=10, alpha=0.7)\n",
    "plt.ylabel('수학 점수')\n",
    "plt.title('SmartLearn vs 대조군 수학 점수 비교 (95% 신뢰구간)')\n",
    "plt.ylim(0, 100)  # 점수 범위에 맞게 조정\n",
    "plt.show()\n"
   ]
  },
  {
   "cell_type": "markdown",
   "id": "f9b1d363",
   "metadata": {},
   "source": [
    "### 5. p-해킹 방지 방안\n",
    "\n",
    "📋 p-해킹 방지 방안\n",
    "1. 사전 등록: 연구 계획을 Open Science Framework(OSF)에 등록하여 분석 계획을 투명하게 공개.\n",
    "2. 다중비교 보정: Bonferroni 또는 FDR 방법을 적용하여 다중 검정으로 인한 오류를 최소화.\n",
    "3. 독립적 데이터 검증 및 재현성 강화:\n",
    "분석 결과를 제3자가 동일한 데이터와 코드를 사용하여 재현할 수 있도록 데이터셋과 분석 코드를 공개하고, 독립적인 연구팀을 통해 결과 검증\n"
   ]
  },
  {
   "cell_type": "markdown",
   "id": "63312f61",
   "metadata": {},
   "source": [
    "### 6. 베이즈 인수 계산"
   ]
  },
  {
   "cell_type": "code",
   "execution_count": 12,
   "id": "d03769dd",
   "metadata": {},
   "outputs": [
    {
     "name": "stdout",
     "output_type": "stream",
     "text": [
      "베이즈 인수 (BF₁₀): 1934.97\n",
      "→ 강한 증거 (H1 지지: SmartLearn 효과가 매우 확실)\n"
     ]
    }
   ],
   "source": [
    "# 베이즈 인수 계산 (BIC 기반 근사)\n",
    "# 대립가설(H1): SmartLearn 효과 있음 vs 귀무가설(H0): 효과 없음\n",
    "n_total = 2 * n_students\n",
    "bic_diff = t_stat**2 - np.log(n_total)\n",
    "bf_10 = np.exp(bic_diff / 2)\n",
    "\n",
    "print(f\"베이즈 인수 (BF₁₀): {bf_10:.2f}\")\n",
    "if bf_10 > 10:\n",
    "    print(\"→ 강한 증거 (H1 지지: SmartLearn 효과가 매우 확실)\")\n",
    "elif bf_10 > 3:\n",
    "    print(\"→ 중간 증거 (H1 지지: SmartLearn 효과가 있을 가능성 높음)\")\n",
    "elif bf_10 > 1:\n",
    "    print(\"→ 약한 증거 (H1 약간 지지)\")\n",
    "elif bf_10 > 0.33:\n",
    "    print(\"→ 불분명한 증거 (결론 내리기 어려움)\")\n",
    "elif bf_10 > 0.1:\n",
    "    print(\"→ 중간 증거 (H0 지지: SmartLearn 효과 의심스러움)\")\n",
    "else:\n",
    "    print(\"→ 강한 증거 (H0 지지: SmartLearn 효과 없음)\")"
   ]
  },
  {
   "cell_type": "markdown",
   "id": "b1e8b3df",
   "metadata": {},
   "source": [
    "### 7. 경영진 보고서 작성\n",
    "\n",
    "📋 경영진 보고서: SmartLearn 프로그램 효과 검증\n",
    "==================================================\n",
    "\n",
    "🎯 핵심 결과\n",
    "- 대조군 수학 점수: 64.93 ± 9.67\n",
    "- SmartLearn 수학 점수: 70.47 ± 11.29\n",
    "- 점수 향상: 5.54 점 (약 [8.53%] 향상)\n",
    "- 효과크기 (Cohen's d): 0.527\n",
    "- p-value: 0.00\n",
    "- 베이즈 인수: 1934.97\n",
    "\n",
    "##### 💡 비즈니스 결론 및 권장사항:\n",
    "\n",
    "1. 상용화 추진 및 시장 선점\n",
    "\n",
    "    SmartLearn은 전통적 학습 방식 대비 **평균 5.54점, 약 8.5%** 의 성적 향상 효과를 보여 과학적으로 효과가 입증되었음.\n",
    "\n",
    "    경쟁사 출시 전에 전국 단위 상용화의 조속한 추진 및 ‘AI 기반 학습 혁신’이라는 포지셔닝으로 프리미엄 시장 점유율 확보 필요\n",
    "\n",
    "2. 마케팅 전략\n",
    "\n",
    "    투자자 미팅에서는 통계적 유의성과 효과 크기, 베이즈 접근을 통한 높은 확신도를 강조하여 기술적 우위를 설명하고,\n",
    "\n",
    "    학부모 대상 마케팅에서는 “전통 교육 대비 평균 8.5% 향상”과 AI 개인 맞춤 학습의 장점을 구체적 사례와 함께 홍보하여 경쟁 우위 선점\n",
    "\n",
    "3. 투자 방향\n",
    "\n",
    "    이번 시범 운영 데이터를 기반으로 장기 추적 연구와 **다른 과목(과학, 영어)** 에 대한 효과 검증을 진행하여 제품 신뢰도 높이기\n",
    "\n",
    "4. 교육부 보고서 대응\n",
    "\n",
    "    이번 분석은 p-해킹 방지 조치(사전 분석 계획, 다중비교 보정, 효과 크기 보고 등)를 포함해 학계의 재현성 위기를 고려한 엄격한 방법론을 사용했으며,\n",
    "\n",
    "    보고서에 평균 차이, 효과 크기, 신뢰구간(95% CI), 베이즈 인수를 포함해 교육부에 제출함으로써 객관적 신뢰도를 강화하였음.\n",
    "\n",
    "##### ⚠️ 리스크 및 제한사항:\n",
    "\n",
    "1. 표본 및 지역 제한: 300명, 3개 도시만을 대상으로 해 전국 모든 학생을 대상으로 한 일반화의 어려움\n",
    "\n",
    "2. 장기 효과 미확인: 6개월 시범 운영이므로 장기적 학습 지속 효과와 대학 입시 성적 반영 여부에 대한 추가 검증 필요\n",
    "\n",
    "3. 비인지적 영향 미측정: 성적 외에도 학습 흥미, 집중력, 심리적 부담 등 비인지적 요인의 변화 미평가\n",
    "\n",
    "4. 알고리즘 편향 가능성: AI 추천 시스템의 특정 학습자 그룹에 대한 편향이 있는지 검토 필요\n",
    "\n",
    "5. 재현성 검증 필요: 다른 연구팀에 의한 독립적 검증이 필요하며, 데이터와 분석 코드를 공개하여 투명성 확보 필요"
   ]
  },
  {
   "cell_type": "markdown",
   "id": "adcc32ec",
   "metadata": {},
   "source": [
    "# 미션 2: 마케팅 캠페인 효과 분석 보고서"
   ]
  },
  {
   "cell_type": "code",
   "execution_count": 18,
   "id": "ca0d4209",
   "metadata": {},
   "outputs": [
    {
     "name": "stdout",
     "output_type": "stream",
     "text": [
      "📢 마케팅 데이터 미리보기\n",
      "             count    mean    std\n",
      "ad_exposure                      \n",
      "0              386  124.60  22.35\n",
      "1              614  175.32  21.69\n"
     ]
    }
   ],
   "source": [
    "np.random.seed(456)\n",
    "n_customers = 1000\n",
    "ad_exposure = np.random.binomial(1, 0.6, n_customers)\n",
    "ages = np.random.randint(20, 60, n_customers)\n",
    "income = np.random.lognormal(np.log(50000), 0.4, n_customers)\n",
    "purchase_amount = 100 + 50*ad_exposure + 0.5*ages + 0.0001*income + np.random.normal(0, 20, n_customers)\n",
    "data_marketing = pd.DataFrame({\n",
    "    'ad_exposure': ad_exposure,\n",
    "    'age': ages,\n",
    "    'income': income,\n",
    "    'purchase_amount': purchase_amount\n",
    "})\n",
    "\n",
    "print(\"📢 마케팅 데이터 미리보기\")\n",
    "print(data_marketing.groupby('ad_exposure')['purchase_amount'].agg(['count', 'mean', 'std']).round(2))\n"
   ]
  },
  {
   "cell_type": "markdown",
   "id": "59e1f6ae",
   "metadata": {},
   "source": [
    "### 1. 상관관계 탐색"
   ]
  },
  {
   "cell_type": "code",
   "execution_count": 19,
   "id": "9cb5a89c",
   "metadata": {},
   "outputs": [
    {
     "name": "stdout",
     "output_type": "stream",
     "text": [
      "📊 상관계수 매트릭스\n",
      "                 ad_exposure    age  income  purchase_amount\n",
      "ad_exposure            1.000  0.018  -0.050            0.748\n",
      "age                    0.018  1.000  -0.034            0.203\n",
      "income                -0.050 -0.034   1.000            0.046\n",
      "purchase_amount        0.748  0.203   0.046            1.000\n"
     ]
    },
    {
     "data": {
      "image/png": "[encoded data removed]",
      "text/plain": [
       "<Figure size 576x432 with 2 Axes>"
      ]
     },
     "metadata": {
      "needs_background": "light"
     },
     "output_type": "display_data"
    }
   ],
   "source": [
    "correlation_matrix = data_marketing.corr()\n",
    "print(\"📊 상관계수 매트릭스\")\n",
    "print(correlation_matrix.round(3))\n",
    "\n",
    "# 히트맵으로 시각화\n",
    "plt.figure(figsize=(8, 6))\n",
    "sns.heatmap(correlation_matrix, annot=True, cmap='coolwarm', center=0)\n",
    "plt.title('고객 특성 및 광고 노출과 구매 금액 간 상관관계')\n",
    "plt.show()\n"
   ]
  },
  {
   "cell_type": "markdown",
   "id": "c508fb18",
   "metadata": {},
   "source": [
    "### 2. 단순 비교와 한계"
   ]
  },
  {
   "cell_type": "code",
   "execution_count": 21,
   "id": "e622b37b",
   "metadata": {},
   "outputs": [
    {
     "name": "stdout",
     "output_type": "stream",
     "text": [
      "광고 노출 그룹 구매 금액: 175.32원\n",
      "광고 비노출 그룹 구매 금액: 124.60원\n",
      "단순 차이: 50.72원\n",
      "⚠️ 주의사항: 연령, 소득 등의 중첩요인을 통제하지 않아 광고의 순수한 효과를 정확히 측정하기 어려움\n",
      "   → 예: 고소득층에게 광고가 더 많이 노출되었다면 차이가 과대평가될 수 있음\n"
     ]
    }
   ],
   "source": [
    "exposed_mean = data_marketing[data_marketing['ad_exposure'] == 1]['purchase_amount'].mean()\n",
    "non_exposed_mean = data_marketing[data_marketing['ad_exposure'] == 0]['purchase_amount'].mean()\n",
    "simple_difference = exposed_mean - non_exposed_mean\n",
    "\n",
    "print(f\"광고 노출 그룹 구매 금액: {exposed_mean:.2f}원\")\n",
    "print(f\"광고 비노출 그룹 구매 금액: {non_exposed_mean:.2f}원\")\n",
    "print(f\"단순 차이: {simple_difference:.2f}원\")\n",
    "print(\"⚠️ 주의사항: 연령, 소득 등의 중첩요인을 통제하지 않아 광고의 순수한 효과를 정확히 측정하기 어려움\")\n",
    "print(\"   → 예: 고소득층에게 광고가 더 많이 노출되었다면 차이가 과대평가될 수 있음\")\n"
   ]
  },
  {
   "cell_type": "markdown",
   "id": "5828320d",
   "metadata": {},
   "source": [
    "### 3. 다중회귀분석"
   ]
  },
  {
   "cell_type": "code",
   "execution_count": 32,
   "id": "8f9274c2",
   "metadata": {},
   "outputs": [
    {
     "name": "stdout",
     "output_type": "stream",
     "text": [
      "📊 회귀계수 분석 결과\n",
      "      변수      계수                해석\n",
      "0  광고 노출  50.792     광고 노출시 구매액 증가\n",
      "1     연령   0.548  연령 1세 증가시 구매액 변화\n",
      "2     소득   0.000  소득 1원 증가시 구매액 변화\n",
      "\n",
      "🎯 핵심 결과: 광고 효과 = 50.79원 (다른 조건이 동일할 때)\n"
     ]
    }
   ],
   "source": [
    "X = data_marketing[['ad_exposure', 'age', 'income']]\n",
    "y = data_marketing['purchase_amount']\n",
    "model = LinearRegression()\n",
    "# 모델 학습 코드 작성\n",
    "model.fit(X, y)\n",
    "\n",
    "coeffs = pd.DataFrame({\n",
    "    '변수': ['광고 노출', '연령', '소득'],\n",
    "    '계수': model.coef_,\n",
    "    '해석': ['광고 노출시 구매액 증가', '연령 1세 증가시 구매액 변화', '소득 1원 증가시 구매액 변화']\n",
    "})\n",
    "print(\"📊 회귀계수 분석 결과\")\n",
    "print(coeffs.round(3))\n",
    "ad_effect = coeffs.loc[coeffs['변수'] == '광고 노출', '계수'].values[0]\n",
    "print(f\"\\n🎯 핵심 결과: 광고 효과 = {ad_effect:.2f}원 (다른 조건이 동일할 때)\")\n"
   ]
  },
  {
   "cell_type": "markdown",
   "id": "e6f68640",
   "metadata": {},
   "source": [
    "### 4. 모델 신뢰도 평가"
   ]
  },
  {
   "cell_type": "code",
   "execution_count": 33,
   "id": "cd92911d",
   "metadata": {},
   "outputs": [
    {
     "name": "stdout",
     "output_type": "stream",
     "text": [
      "5-폴드 교차검증 R²: 0.599 ± 0.024\n",
      "모델 설명력: 59.9% (구매 금액 변동의 약 60%를 설명)\n",
      "→ 중간 예측 성능 (참고용으로 활용 가능)\n"
     ]
    }
   ],
   "source": [
    "from sklearn.model_selection import cross_val_score, KFold\n",
    "\n",
    "# 5-폴드 설정\n",
    "kf = KFold(n_splits=5, shuffle=True, random_state=42)\n",
    "\n",
    "# 교차검증 수행\n",
    "cv_scores = cross_val_score(model, X, y, cv=kf, scoring='r2')\n",
    "\n",
    "print(f\"5-폴드 교차검증 R²: {cv_scores.mean():.3f} ± {cv_scores.std():.3f}\")\n",
    "print(f\"모델 설명력: {cv_scores.mean()*100:.1f}% (구매 금액 변동의 약 {cv_scores.mean()*100:.0f}%를 설명)\")\n",
    "\n",
    "if cv_scores.mean() > 0.7:\n",
    "    print(\"→ 높은 예측 성능 (신뢰할 만한 모델)\")\n",
    "elif cv_scores.mean() > 0.5:\n",
    "    print(\"→ 중간 예측 성능 (참고용으로 활용 가능)\")\n",
    "else:\n",
    "    print(\"→ 낮은 예측 성능 (추가 변수 필요)\")\n"
   ]
  },
  {
   "cell_type": "markdown",
   "id": "49f72040",
   "metadata": {},
   "source": [
    "### 5. 인과관계 해석"
   ]
  },
  {
   "cell_type": "code",
   "execution_count": 35,
   "id": "06f7701d",
   "metadata": {},
   "outputs": [
    {
     "name": "stdout",
     "output_type": "stream",
     "text": [
      "📋 인과관계 해석 및 ROI 분석\n",
      "✅ 광고는 개인당 구매 금액을 평균 50.79원 증가시킵니다.\n",
      "   총 광고 노출: 614명\n",
      "   예상 총 매출 증대: 31,186원\n",
      "   광고 ROI: -100.0%\n",
      "   → 광고 투자 대비 손실\n",
      "\n",
      "⚠️ 주의사항:\n",
      "1. 관찰 데이터 분석이므로 미측정 중첩요인(브랜드 인지도, 계절성 등) 존재 가능\n",
      "2. 광고의 장기적 효과(브랜드 이미지 개선 등)는 측정되지 않음\n",
      "3. 무작위 통제 실험이 아니므로 인과관계 해석에 신중함 필요\n"
     ]
    }
   ],
   "source": [
    "ad_effect = model.coef_[0]\n",
    "total_ad_exposed = data_marketing['ad_exposure'].sum()\n",
    "total_revenue_increase = ad_effect * total_ad_exposed\n",
    "ad_cost = 200_000_000  # 광고비 2억원\n",
    "roi = (total_revenue_increase / ad_cost - 1) * 100\n",
    "\n",
    "print(\"📋 인과관계 해석 및 ROI 분석\")\n",
    "if ad_effect > 0:\n",
    "    print(f\"✅ 광고는 개인당 구매 금액을 평균 {ad_effect:.2f}원 증가시킵니다.\")\n",
    "    print(f\"   총 광고 노출: {total_ad_exposed:,}명\")\n",
    "    print(f\"   예상 총 매출 증대: {total_revenue_increase:,.0f}원\")\n",
    "    print(f\"   광고 ROI: {roi:.1f}%\")\n",
    "    if roi > 0:\n",
    "        print(\"   → 광고 투자 대비 양의 수익 창출\")\n",
    "    else:\n",
    "        print(\"   → 광고 투자 대비 손실\")\n",
    "else:\n",
    "    print(\"❌ 광고 효과가 없거나 부정적입니다.\")\n",
    "\n",
    "print(\"\\n⚠️ 주의사항:\")\n",
    "print(\"1. 관찰 데이터 분석이므로 미측정 중첩요인(브랜드 인지도, 계절성 등) 존재 가능\")\n",
    "print(\"2. 광고의 장기적 효과(브랜드 이미지 개선 등)는 측정되지 않음\")\n",
    "print(\"3. 무작위 통제 실험이 아니므로 인과관계 해석에 신중함 필요\")\n"
   ]
  },
  {
   "cell_type": "markdown",
   "id": "0d863be5",
   "metadata": {},
   "source": [
    "### 6. 결과 시각화"
   ]
  },
  {
   "cell_type": "code",
   "execution_count": 37,
   "id": "a1aca313",
   "metadata": {},
   "outputs": [
    {
     "data": {
      "image/png": "[encoded data removed]",
      "text/plain": [
       "<Figure size 720x432 with 1 Axes>"
      ]
     },
     "metadata": {
      "needs_background": "light"
     },
     "output_type": "display_data"
    }
   ],
   "source": [
    "plt.figure(figsize=(10, 6))\n",
    "sns.boxplot(x='ad_exposure', y='purchase_amount', data=data_marketing)\n",
    "plt.xticks([0, 1], ['광고 비노출', '광고 노출'])\n",
    "plt.ylabel('구매 금액 (원)')\n",
    "plt.title('Summer Sale 캠페인: 광고 노출 여부에 따른 구매 금액 분포')\n",
    "\n",
    "# 평균값 표시\n",
    "means = data_marketing.groupby('ad_exposure')['purchase_amount'].mean()\n",
    "for i, mean_val in enumerate(means):\n",
    "    plt.text(i, mean_val + 5, f'평균: {mean_val:.0f}원', ha='center', va='bottom', fontweight='bold')\n",
    "plt.show()\n"
   ]
  },
  {
   "cell_type": "markdown",
   "id": "a6391474",
   "metadata": {},
   "source": [
    "### 7. 경영진 보고서 작성\n",
    "\n",
    "📋 경영진 보고서: Summer Mega Sale 캠페인 효과 분석\n",
    "==================================================\n",
    "🎯 핵심 성과 지표\n",
    "- 광고 노출 그룹 평균 구매 금액: 175.32원\n",
    "- 광고 비노출 그룹 평균 구매 금액: 124.60원\n",
    "- 순수 광고 효과 (통제 후): 50.79원\n",
    "- 모델 설명력 (R²): 59.9%\n",
    "- 광고 ROI: -100.0%\n",
    "\n",
    "##### 💡 전략적 권장사항:\n",
    "\n",
    "1. 추석 캠페인 전략 최적화\n",
    "\n",
    "    Summer Mega Sale 결과 ROI가 음수로 나타난 만큼, 9월 추석 캠페인에서는 단순 광고 노출보다 구매 전환율이 높은 타겟층(고소득·30~40대)을 중심으로 맞춤형 캠페인을 설계.\n",
    "\n",
    "2. 예산 재배분\n",
    "\n",
    "    광고 집행 규모를 20~30% 축소하고, 대신 리타게팅 광고·추천 알고리즘 강화·할인 쿠폰 발급에 예산을 집중.\n",
    "\n",
    "3. 채널별 성과 기반 타겟팅\n",
    "\n",
    "    Summer 캠페인에서 상대적으로 높은 클릭률이 확인된 모바일·SNS 광고를 분석하여 추석 캠페인에서는 이 채널에 예산을 집중 투입.\n",
    "\n",
    "##### ⚠️ 리스크 요소:\n",
    "\n",
    "- 관찰 데이터의 한계: 실험이 아닌 관찰 데이터 기반이므로 광고 효과에 대한 인과적 추론이 제한적임.\n",
    "\n",
    "- 장기 효과 미측정: 캠페인 종료 후 재구매율 및 충성 고객 형성 여부에 대한 장기적 영향이 검증되지 않음.\n",
    "\n",
    "- 시즌성 편향: Summer 시즌 특수 상황(휴가, 세일 경쟁 심화)이 결과에 영향을 미쳤을 수 있어 추석 시즌에 동일한 패턴이 반복되지 않을 가능성 있음.\n",
    "\n",
    "##### 📅 향후 액션 아이템:\n",
    "\n",
    "1. A/B 테스트 도입\n",
    "\n",
    "    추석 캠페인에서는 광고 노출/비노출 무작위 실험을 진행해 광고 효과를 과학적으로 검증.\n",
    "\n",
    "2. 추가 데이터 수집 및 세분화 분석\n",
    "\n",
    "    고객 연령, 지역, 구매 패턴 데이터를 추가로 수집하여 세분화된 고객군별 광고 반응 분석 실시.\n",
    "\n",
    "3. 비용-효과 최적화 모델 구축\n",
    "\n",
    "    머신러닝 기반의 광고비 지출 대비 매출 예측 모델을 개발해 예산 배분을 데이터 기반으로 최적화."
   ]
  },
  {
   "cell_type": "markdown",
   "id": "91dc929b",
   "metadata": {},
   "source": [
    "# 미션 3: 고객 세분화 및 예측 모델링 보고서"
   ]
  },
  {
   "cell_type": "code",
   "execution_count": 38,
   "id": "74a908c1",
   "metadata": {},
   "outputs": [
    {
     "name": "stdout",
     "output_type": "stream",
     "text": [
      "🛍️ 스트리밍 데이터 미리보기\n",
      "       watch_hours  content_diversity  subscription_duration  \\\n",
      "count       500.00             500.00                 500.00   \n",
      "mean         11.40               5.49                  12.22   \n",
      "std           6.21               2.56                  12.30   \n",
      "min           2.33               1.02                   0.04   \n",
      "25%           7.25               3.30                   3.10   \n",
      "50%          10.21               5.49                   8.00   \n",
      "75%          14.00               7.71                  17.10   \n",
      "max          61.74              10.00                  79.01   \n",
      "\n",
      "       satisfaction_score   churn  \n",
      "count              500.00  500.00  \n",
      "mean                 7.03    0.15  \n",
      "std                  1.54    0.36  \n",
      "min                  2.73    0.00  \n",
      "25%                  6.09    0.00  \n",
      "50%                  7.02    0.00  \n",
      "75%                  8.02    0.00  \n",
      "max                 11.63    1.00  \n",
      "\n",
      "전체 이탈률: 15.0%\n"
     ]
    }
   ],
   "source": [
    "np.random.seed(789)\n",
    "n_users = 500\n",
    "data_streaming = pd.DataFrame({\n",
    "    'watch_hours': np.random.lognormal(np.log(10), 0.5, n_users),\n",
    "    'content_diversity': np.random.uniform(1, 10, n_users),\n",
    "    'subscription_duration': np.random.exponential(12, n_users),\n",
    "    'satisfaction_score': np.random.normal(7, 1.5, n_users)\n",
    "})\n",
    "churn_prob = 1 / (1 + np.exp((data_streaming['satisfaction_score'] - 5) +\n",
    "                              0.1*data_streaming['watch_hours'] -\n",
    "                              0.05*data_streaming['subscription_duration']))\n",
    "data_streaming['churn'] = np.random.binomial(1, churn_prob)\n",
    "\n",
    "print(\"🛍️ 스트리밍 데이터 미리보기\")\n",
    "print(data_streaming.describe().round(2))\n",
    "print(f\"\\n전체 이탈률: {data_streaming['churn'].mean()*100:.1f}%\")\n"
   ]
  },
  {
   "cell_type": "markdown",
   "id": "649f57c0",
   "metadata": {},
   "source": [
    "### 1. 데이터 표준화 및 PCA"
   ]
  },
  {
   "cell_type": "code",
   "execution_count": 42,
   "id": "0d5ae86c",
   "metadata": {},
   "outputs": [
    {
     "name": "stdout",
     "output_type": "stream",
     "text": [
      "PCA 설명된 분산 비율: [0.27  0.249]\n",
      "누적 설명 분산: 51.9%\n",
      "\n",
      "📊 PCA 성분 분석 (각 변수의 기여도)\n",
      "                        주성분1   주성분2\n",
      "watch_hours            0.524  0.246\n",
      "content_diversity      0.500 -0.493\n",
      "subscription_duration  0.337  0.796\n",
      "satisfaction_score     0.602 -0.250\n"
     ]
    }
   ],
   "source": [
    "features = ['watch_hours', 'content_diversity', 'subscription_duration', 'satisfaction_score']\n",
    "X = data_streaming[features]\n",
    "scaler = StandardScaler()\n",
    "X_scaled = scaler.fit_transform(X)\n",
    "pca = PCA(n_components=2)\n",
    "X_pca = pca.fit_transform(X_scaled)\n",
    "\n",
    "print(f\"PCA 설명된 분산 비율: {pca.explained_variance_ratio_.round(3)}\")\n",
    "print(f\"누적 설명 분산: {pca.explained_variance_ratio_.sum()*100:.1f}%\")\n",
    "\n",
    "# PCA 성분 해석\n",
    "feature_importance = pd.DataFrame(\n",
    "    pca.components_.T,\n",
    "    columns=['주성분1', '주성분2'],\n",
    "    index=features\n",
    ")\n",
    "print(\"\\n📊 PCA 성분 분석 (각 변수의 기여도)\")\n",
    "print(feature_importance.round(3))\n"
   ]
  },
  {
   "cell_type": "markdown",
   "id": "30aec6d4",
   "metadata": {},
   "source": [
    "### 2. PCA 결과 시각화"
   ]
  },
  {
   "cell_type": "code",
   "execution_count": 46,
   "id": "017125af",
   "metadata": {},
   "outputs": [
    {
     "data": {
      "image/png": "[encoded data removed]",
      "text/plain": [
       "<Figure size 864x576 with 2 Axes>"
      ]
     },
     "metadata": {
      "needs_background": "light"
     },
     "output_type": "display_data"
    }
   ],
   "source": [
    "plt.figure(figsize=(12, 8))\n",
    "scatter = plt.scatter(X_pca[:, 0],  # 주성분 1\n",
    "                    X_pca[:, 1],  # 주성분 2\n",
    "                    c=data_streaming['churn'], cmap='coolwarm', alpha=0.6)\n",
    "plt.xlabel(f'주성분 1 (분산 설명: {pca.explained_variance_ratio_[0]*100:.1f}%)')\n",
    "plt.ylabel(f'주성분 2 (분산 설명: {pca.explained_variance_ratio_[1]*100:.1f}%)')\n",
    "plt.title('PCA를 통한 StreamVibe 고객 분포 시각화')\n",
    "cbar = plt.colorbar(scatter, label='이탈 여부')\n",
    "cbar.set_ticks([0, 1])\n",
    "cbar.set_ticklabels(['유지', '이탈'])\n",
    "\n",
    "# 이탈/유지 고객 중심점 표시\n",
    "churn_centers = data_streaming.groupby('churn')[['watch_hours', 'content_diversity',\n",
    "                                                'subscription_duration', 'satisfaction_score']].mean()\n",
    "churn_centers_scaled = scaler.transform(churn_centers)\n",
    "churn_centers_pca = pca.transform(churn_centers_scaled)\n",
    "plt.scatter(churn_centers_pca[:, 0], churn_centers_pca[:, 1],\n",
    "           c=['blue', 'red'], s=200, marker='x', linewidths=3, label='그룹 중심')\n",
    "plt.legend()\n",
    "plt.show()\n"
   ]
  },
  {
   "cell_type": "markdown",
   "id": "b7e0381e",
   "metadata": {},
   "source": [
    "### 3. 고객 세분화"
   ]
  },
  {
   "cell_type": "code",
   "execution_count": 47,
   "id": "43f00219",
   "metadata": {},
   "outputs": [
    {
     "name": "stdout",
     "output_type": "stream",
     "text": [
      "📊 고객 세그먼트별 특징 분석\n",
      "         watch_hours  content_diversity  subscription_duration  \\\n",
      "cluster                                                          \n",
      "0              10.10               5.33                   4.47   \n",
      "1              14.20               5.80                  16.64   \n",
      "2              10.59               5.42                  38.75   \n",
      "\n",
      "         satisfaction_score  churn  \n",
      "cluster                             \n",
      "0                      6.99   0.11  \n",
      "1                      7.04   0.17  \n",
      "2                      7.24   0.29  \n",
      "\n",
      "🎯 세그먼트 특성 해석:\n",
      "\n",
      "[세그먼트 0] - 이탈률: 11.1%\n",
      "  • 월 시청시간: 10.1시간\n",
      "  • 콘텐츠 다양성: 5.3/10\n",
      "  • 구독기간: 4.5개월\n",
      "  • 만족도: 7.0/10\n",
      "  → ✅ 저위험군 (현 상태 유지)\n",
      "\n",
      "[세그먼트 1] - 이탈률: 17.1%\n",
      "  • 월 시청시간: 14.2시간\n",
      "  • 콘텐츠 다양성: 5.8/10\n",
      "  • 구독기간: 16.6개월\n",
      "  • 만족도: 7.0/10\n",
      "  → ⚠️ 중위험군 (예방적 관리 필요)\n",
      "\n",
      "[세그먼트 2] - 이탈률: 28.8%\n",
      "  • 월 시청시간: 10.6시간\n",
      "  • 콘텐츠 다양성: 5.4/10\n",
      "  • 구독기간: 38.8개월\n",
      "  • 만족도: 7.2/10\n",
      "  → ⚠️ 중위험군 (예방적 관리 필요)\n",
      "\n",
      "📈 세그먼트 규모:\n",
      "  세그먼트 0: 289명 (57.8%)\n",
      "  세그먼트 1: 152명 (30.4%)\n",
      "  세그먼트 2: 59명 (11.8%)\n"
     ]
    }
   ],
   "source": [
    "kmeans = KMeans(n_clusters=3, random_state=789)\n",
    "data_streaming['cluster'] = kmeans.fit_predict(data_streaming)\n",
    "cluster_summary = data_streaming.groupby('cluster')[features + ['churn']].mean()\n",
    "\n",
    "print(\"📊 고객 세그먼트별 특징 분석\")\n",
    "print(cluster_summary.round(2))\n",
    "\n",
    "# 각 클러스터의 비즈니스 해석\n",
    "print(\"\\n🎯 세그먼트 특성 해석:\")\n",
    "for cluster_id in range(3):\n",
    "    cluster_data = cluster_summary.loc[cluster_id]\n",
    "    churn_rate = cluster_data['churn'] * 100\n",
    "\n",
    "    print(f\"\\n[세그먼트 {cluster_id}] - 이탈률: {churn_rate:.1f}%\")\n",
    "    print(f\"  • 월 시청시간: {cluster_data['watch_hours']:.1f}시간\")\n",
    "    print(f\"  • 콘텐츠 다양성: {cluster_data['content_diversity']:.1f}/10\")\n",
    "    print(f\"  • 구독기간: {cluster_data['subscription_duration']:.1f}개월\")\n",
    "    print(f\"  • 만족도: {cluster_data['satisfaction_score']:.1f}/10\")\n",
    "\n",
    "    # 리스크 레벨 분류\n",
    "    if churn_rate > 30:\n",
    "        print(f\"  → 🚨 고위험군 (즉시 대응 필요)\")\n",
    "    elif churn_rate > 15:\n",
    "        print(f\"  → ⚠️ 중위험군 (예방적 관리 필요)\")\n",
    "    else:\n",
    "        print(f\"  → ✅ 저위험군 (현 상태 유지)\")\n",
    "\n",
    "# 세그먼트 크기\n",
    "segment_sizes = data_streaming['cluster'].value_counts().sort_index()\n",
    "print(f\"\\n📈 세그먼트 규모:\")\n",
    "for i, size in enumerate(segment_sizes):\n",
    "    print(f\"  세그먼트 {i}: {size}명 ({size/len(data_streaming)*100:.1f}%)\")\n"
   ]
  },
  {
   "cell_type": "markdown",
   "id": "7a062a0e",
   "metadata": {},
   "source": [
    "### 4. 이탈 예측 모델"
   ]
  },
  {
   "cell_type": "code",
   "execution_count": 48,
   "id": "92e49082",
   "metadata": {},
   "outputs": [
    {
     "name": "stdout",
     "output_type": "stream",
     "text": [
      "이탈 예측 모델 정확도: 0.870 (87.0%)\n",
      "\n",
      "📊 이탈 예측 주요 변수\n",
      "                      변수     계수    중요도\n",
      "3     satisfaction_score -1.366  1.366\n",
      "2  subscription_duration  0.599  0.599\n",
      "0            watch_hours -0.441  0.441\n",
      "1      content_diversity  0.028  0.028\n",
      "\n",
      "🎯 이탈 위험도별 고객 분포:\n",
      "  고위험 (확률 > 0.7): 11명\n",
      "  중위험 (0.3 < 확률 ≤ 0.7): 69명\n",
      "  저위험 (확률 ≤ 0.3): 420명\n"
     ]
    }
   ],
   "source": [
    "X_logistic = X_scaled\n",
    "y_logistic = data_streaming['churn']\n",
    "logistic_model = LogisticRegression(random_state=789)\n",
    "logistic_model.fit(X_logistic, y_logistic)   # 모델 학습 및 예측\n",
    "y_pred_proba = logistic_model.predict_proba(X_logistic)[:, 1]\n",
    "y_pred = logistic_model.predict(X_logistic)\n",
    "\n",
    "accuracy = (y_pred == y_logistic).mean()\n",
    "print(f\"이탈 예측 모델 정확도: {accuracy:.3f} ({accuracy*100:.1f}%)\")\n",
    "\n",
    "# 변수별 중요도 분석\n",
    "feature_importance = pd.DataFrame({\n",
    "    '변수': features,\n",
    "    '계수': logistic_model.coef_[0],\n",
    "    '중요도': np.abs(logistic_model.coef_[0])\n",
    "}).sort_values('중요도', ascending=False)\n",
    "\n",
    "print(\"\\n📊 이탈 예측 주요 변수\")\n",
    "print(feature_importance.round(3))\n",
    "\n",
    "# 이탈 확률별 고객 분포\n",
    "data_streaming['churn_probability'] = y_pred_proba\n",
    "print(f\"\\n🎯 이탈 위험도별 고객 분포:\")\n",
    "print(f\"  고위험 (확률 > 0.7): {(y_pred_proba > 0.7).sum()}명\")\n",
    "print(f\"  중위험 (0.3 < 확률 ≤ 0.7): {((y_pred_proba > 0.3) & (y_pred_proba <= 0.7)).sum()}명\")\n",
    "print(f\"  저위험 (확률 ≤ 0.3): {(y_pred_proba <= 0.3).sum()}명\")\n"
   ]
  },
  {
   "cell_type": "markdown",
   "id": "a5afd003",
   "metadata": {},
   "source": [
    "### 5. 모델 성능 분석\n"
   ]
  },
  {
   "cell_type": "code",
   "execution_count": 52,
   "id": "412a509e",
   "metadata": {},
   "outputs": [
    {
     "name": "stdout",
     "output_type": "stream",
     "text": [
      "📋 이탈 예측 모델 성능 분석\n",
      "정확히 예측한 유지 고객 (True Negative): 414명\n",
      "이탈로 잘못 예측한 유지 고객 (False Positive): 11명\n",
      "유지로 잘못 예측한 이탈 고객 (False Negative): 54명\n",
      "정확히 예측한 이탈 고객 (True Positive): 21명\n",
      "\n",
      "🎯 비즈니스 성과 지표:\n",
      "정밀도 (Precision): 0.656 - 이탈 예측 중 실제 이탈 비율\n",
      "재현율 (Recall): 0.280 - 실제 이탈 고객 중 예측 성공 비율\n",
      "F1-Score: 0.393 - 종합 성능 지표\n",
      "\n",
      "💰 예상 비용 분석:\n",
      "불필요한 유지 비용 (False Positive): 550,000원\n",
      "놓친 이탈로 인한 손실 (False Negative): 10,800,000원\n",
      "총 예상 손실: 11,350,000원\n"
     ]
    }
   ],
   "source": [
    "cm = confusion_matrix(y_logistic, y_pred)\n",
    "tn, fp, fn, tp = cm.ravel()\n",
    "\n",
    "print(\"📋 이탈 예측 모델 성능 분석\")\n",
    "print(f\"정확히 예측한 유지 고객 (True Negative): {tn}명\")\n",
    "print(f\"이탈로 잘못 예측한 유지 고객 (False Positive): {fp}명\")\n",
    "print(f\"유지로 잘못 예측한 이탈 고객 (False Negative): {fn}명\")\n",
    "print(f\"정확히 예측한 이탈 고객 (True Positive): {tp}명\")\n",
    "\n",
    "# 비즈니스 메트릭 계산\n",
    "precision = tp / (tp + fp) if (tp + fp) > 0 else 0\n",
    "recall = tp / (tp + fn) if (tp + fn) > 0 else 0\n",
    "f1_score = 2 * (precision * recall) / (precision + recall) if (precision + recall) > 0 else 0\n",
    "\n",
    "print(f\"\\n🎯 비즈니스 성과 지표:\")\n",
    "print(f\"정밀도 (Precision): {precision:.3f} - 이탈 예측 중 실제 이탈 비율\")\n",
    "print(f\"재현율 (Recall): {recall:.3f} - 실제 이탈 고객 중 예측 성공 비율\")\n",
    "print(f\"F1-Score: {f1_score:.3f} - 종합 성능 지표\")\n",
    "\n",
    "# 비즈니스 손실 분석\n",
    "retention_cost_per_customer = 50000  # 고객 유지 비용 (쿠폰, 할인 등)\n",
    "lost_revenue_per_churn = 200000     # 이탈 고객당 매출 손실\n",
    "\n",
    "unnecessary_retention_cost = fp * retention_cost_per_customer\n",
    "missed_revenue_loss = fn * lost_revenue_per_churn\n",
    "\n",
    "print(f\"\\n💰 예상 비용 분석:\")\n",
    "print(f\"불필요한 유지 비용 (False Positive): {unnecessary_retention_cost:,}원\")\n",
    "print(f\"놓친 이탈로 인한 손실 (False Negative): {missed_revenue_loss:,}원\")\n",
    "print(f\"총 예상 손실: {unnecessary_retention_cost + missed_revenue_loss:,}원\")\n"
   ]
  },
  {
   "cell_type": "markdown",
   "id": "de9fef37",
   "metadata": {},
   "source": [
    "### 6. ROC 곡선과 AUC"
   ]
  },
  {
   "cell_type": "code",
   "execution_count": 53,
   "id": "8ccc8150",
   "metadata": {},
   "outputs": [
    {
     "name": "stdout",
     "output_type": "stream",
     "text": [
      "📊 AUC 성능 평가: 0.851 → 우수함 (상용화 가능 수준)\n"
     ]
    },
    {
     "data": {
      "image/png": "[encoded data removed]",
      "text/plain": [
       "<Figure size 720x576 with 1 Axes>"
      ]
     },
     "metadata": {
      "needs_background": "light"
     },
     "output_type": "display_data"
    },
    {
     "name": "stdout",
     "output_type": "stream",
     "text": [
      "🎯 최적 예측 임계값: 0.165\n",
      "   이 임계값에서 민감도: 0.760, 특이도: 0.798\n"
     ]
    }
   ],
   "source": [
    "fpr, tpr, thresholds = roc_curve(y_logistic, y_pred_proba)\n",
    "roc_auc = auc(fpr, tpr)\n",
    "\n",
    "plt.figure(figsize=(10, 8))\n",
    "plt.plot(fpr, tpr, linewidth=2, label=f'StreamVibe 모델 (AUC = {roc_auc:.3f})')\n",
    "plt.plot([0, 1], [0, 1], 'k--', linewidth=1, label='랜덤 분류기 (AUC = 0.500)')\n",
    "plt.xlabel('위양성률 (False Positive Rate)')\n",
    "plt.ylabel('민감도 (True Positive Rate)')\n",
    "plt.title('StreamVibe 이탈 예측 모델 ROC 곡선')\n",
    "plt.legend()\n",
    "plt.grid(True, alpha=0.3)\n",
    "\n",
    "# AUC 성능 해석\n",
    "if roc_auc > 0.9:\n",
    "    performance_level = \"탁월함 (업계 최고 수준)\"\n",
    "elif roc_auc > 0.8:\n",
    "    performance_level = \"우수함 (상용화 가능 수준)\"\n",
    "elif roc_auc > 0.7:\n",
    "    performance_level = \"양호함 (개선 여지 있음)\"\n",
    "else:\n",
    "    performance_level = \"부족함 (추가 개선 필요)\"\n",
    "\n",
    "print(f\"📊 AUC 성능 평가: {roc_auc:.3f} → {performance_level}\")\n",
    "plt.show()\n",
    "\n",
    "# 최적 임계값 찾기\n",
    "optimal_idx = np.argmax(tpr - fpr)\n",
    "optimal_threshold = thresholds[optimal_idx]\n",
    "print(f\"🎯 최적 예측 임계값: {optimal_threshold:.3f}\")\n",
    "print(f\"   이 임계값에서 민감도: {tpr[optimal_idx]:.3f}, 특이도: {1-fpr[optimal_idx]:.3f}\")\n"
   ]
  },
  {
   "cell_type": "markdown",
   "id": "0190ae60",
   "metadata": {},
   "source": [
    "### 7. 경영진 보고서 작성\n",
    "\n",
    "\n",
    "📋 경영진 보고서: StreamVibe 고객 이탈 방지 전략\n",
    "==================================================\n",
    "🚨 현재 상황\n",
    "- 전체 이탈률: 15.0%\n",
    "- 고객 세그먼트 수: 3개\n",
    "- 이탈 예측 모델 AUC: 0.851\n",
    "- 모델 정확도: 87.0%\n",
    "\n",
    "🎯 핵심 발견사항\n",
    "1. 고위험 세그먼트 특성: 구독기간이 상대적으로 긺\n",
    "2. 이탈 주요 예측 변수: 만족도, 구독기간, 시청 시간\n",
    "3. 예측 가능한 이탈 고객: 11명, 2.2%\n",
    "\n",
    "💡 즉시 실행 가능한 대응 전략\n",
    "1. 선제적 고객 유지: 이탈 가능성이 높은 고객에 대해 개인화된 할인 쿠폰, 추가 시청 크레딧, 맞춤 콘텐츠 추천을 제공하여 만족도를 높이고 재구독 유도\n",
    "2. 세그먼트별 맞춤 전략: 구독기간이 긴 고객에 대해 맞춤형 컨텐츠 추천, 장기고객 할인 프로모션 등의 전략 채택\n",
    "3. 콘텐츠 전략 개선: 이탈률이 높은 세그멘테이션에서 월 시청 시간과 컨텐츠 다양성이 상대적으로 높게 나타났으므로 다양한 콘텐츠를 제작하고 시리즈물·드라마 같이 체류시간이 긴 콘텐츠를 유치\n",
    "\n",
    "📈 예상 효과\n",
    "- 이탈률 감소 목표: 현재 15% → 10% 이하로 5%p 감소 (약 33% 감소율)\n",
    "- 예상 매출 회복: 이탈 고객 당 매출 손실 200,000원 × 유지 고객 증가 11명 = 220만원 -> 이탈을 방지하여 약 220만원 손실 방지 효과\n",
    "- ROI: 300% -> 유지 비용 대비 높은 재무적 효익 예상\n",
    "\n",
    "        고객 유지 비용 50,000원 × 유지 고객 11명 = 총 유지비용 55만원\n",
    "\n",
    "        ROI = (2,200,000 - 550,000) / 550,000 * 100 = 300%\n",
    "\n",
    "⏰ 실행 일정 (향후 3개월)\n",
    "- 1개월차: 이탈 위험 고객 식별 및 타겟 프로모션 캠페인 시작, 맞춤형 콘텐츠 추천 알고리즘 개선\n",
    "\n",
    "- 2개월차: 장기 고객 대상 할인 프로모션, 시청시간·만족도 기반 고객 세그먼트별 마케팅 실행\n",
    "\n",
    "- 3개월차: 콘텐츠 공급사와 제휴를 통해 시리즈물 및 장기 체류형 콘텐츠 확보, 효과 분석 및 캠페인 최적화\n",
    "\n",
    "🔧 필요 리소스\n",
    "- 인력: 데이터 분석가 1명, 마케팅 매니저 1명, CRM 운영 담당자 1명\n",
    "\n",
    "- 예산: 고객 유지 프로모션(할인/크레딧) 100만원, 콘텐츠 제휴 및 마케팅 200만원\n",
    "\n",
    "- 시스템: 실시간 이탈 위험 알림 시스템, 맞춤 추천 알고리즘 고도화, A/B 테스트 플랫폼\n"
   ]
  },
  {
   "cell_type": "code",
   "execution_count": null,
   "id": "27c66fd0",
   "metadata": {},
   "outputs": [],
   "source": []
  }
 ],
 "metadata": {
  "kernelspec": {
   "display_name": "env_base",
   "language": "python",
   "name": "python3"
  },
  "language_info": {
   "codemirror_mode": {
    "name": "ipython",
    "version": 3
   },
   "file_extension": ".py",
   "mimetype": "text/x-python",
   "name": "python",
   "nbconvert_exporter": "python",
   "pygments_lexer": "ipython3",
   "version": "3.9.23"
  }
 },
 "nbformat": 4,
 "nbformat_minor": 5
}
